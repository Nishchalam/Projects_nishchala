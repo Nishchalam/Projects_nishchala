{
  "nbformat": 4,
  "nbformat_minor": 0,
  "metadata": {
    "colab": {
      "name": "Titanic survival.ipynb",
      "private_outputs": true,
      "provenance": []
    },
    "kernelspec": {
      "name": "python3",
      "display_name": "Python 3"
    },
    "language_info": {
      "name": "python"
    }
  },
  "cells": [
    {
      "cell_type": "markdown",
      "source": [
        "Importing libraries"
      ],
      "metadata": {
        "id": "3clFlIY9YcgT"
      }
    },
    {
      "cell_type": "code",
      "execution_count": null,
      "metadata": {
        "id": "NNKT5cmqcfvz"
      },
      "outputs": [],
      "source": [
        "import numpy as np\n",
        "import pandas as pd\n",
        "import matplotlib.pyplot as plt\n",
        "import seaborn as sns\n",
        "from sklearn.linear_model import LogisticRegression\n",
        "from sklearn.linear_model import LinearRegression\n",
        "from sklearn.model_selection import train_test_split\n",
        "from sklearn.metrics import accuracy_score"
      ]
    },
    {
      "cell_type": "markdown",
      "source": [
        "Data collection and preprocessing"
      ],
      "metadata": {
        "id": "DM-KObxCY9Ei"
      }
    },
    {
      "cell_type": "code",
      "source": [
        "titanic_data=pd.read_csv('/content/drive/MyDrive/Dataset/titanic.csv')"
      ],
      "metadata": {
        "id": "zC3TpomqY4sw"
      },
      "execution_count": null,
      "outputs": []
    },
    {
      "cell_type": "code",
      "source": [
        "titanic_data.head()"
      ],
      "metadata": {
        "id": "jncqqzRwZHOI"
      },
      "execution_count": null,
      "outputs": []
    },
    {
      "cell_type": "code",
      "source": [
        "titanic_data.info()"
      ],
      "metadata": {
        "id": "422nljUIZLCJ"
      },
      "execution_count": null,
      "outputs": []
    },
    {
      "cell_type": "code",
      "source": [
        "titanic_data.shape"
      ],
      "metadata": {
        "id": "XvmHV0w3ZaCf"
      },
      "execution_count": null,
      "outputs": []
    },
    {
      "cell_type": "code",
      "source": [
        "#some rows have null values\n",
        "titanic_data.isnull().sum()"
      ],
      "metadata": {
        "id": "sARnsGBYZe1-"
      },
      "execution_count": null,
      "outputs": []
    },
    {
      "cell_type": "markdown",
      "source": [
        "Filling up missing data"
      ],
      "metadata": {
        "id": "DGHmzzc0Zpqy"
      }
    },
    {
      "cell_type": "code",
      "source": [
        "titanic_data=titanic_data.drop(columns='Cabin',axis=1)"
      ],
      "metadata": {
        "id": "7BwWTHcOZm_u"
      },
      "execution_count": null,
      "outputs": []
    },
    {
      "cell_type": "code",
      "source": [
        "#filling age by mean of the ages\n",
        "titanic_data['Age'].fillna(titanic_data['Age'].mean(),inplace=True)"
      ],
      "metadata": {
        "id": "uEvvyb5GZ3l2"
      },
      "execution_count": null,
      "outputs": []
    },
    {
      "cell_type": "code",
      "source": [
        "#filling embarked by its mode, here there are 2 modes, so we take the first value\n",
        "titanic_data['Embarked'].fillna(titanic_data['Embarked'].mode()[0],inplace=True)"
      ],
      "metadata": {
        "id": "kuoKaN6RZ_kP"
      },
      "execution_count": null,
      "outputs": []
    },
    {
      "cell_type": "code",
      "source": [
        "#checking for further null values\n",
        "titanic_data.isnull().sum()"
      ],
      "metadata": {
        "id": "jcVth4hFaQrk"
      },
      "execution_count": null,
      "outputs": []
    },
    {
      "cell_type": "markdown",
      "source": [
        "Data analysis and encoding"
      ],
      "metadata": {
        "id": "-FQjMCgKaxzc"
      }
    },
    {
      "cell_type": "code",
      "source": [
        "titanic_data.describe()"
      ],
      "metadata": {
        "id": "1oSShim6abJ_"
      },
      "execution_count": null,
      "outputs": []
    },
    {
      "cell_type": "code",
      "source": [
        "sns.set_theme()"
      ],
      "metadata": {
        "id": "Ppywe56Ca37u"
      },
      "execution_count": null,
      "outputs": []
    },
    {
      "cell_type": "code",
      "source": [
        "sns.countplot('Survived',hue='Sex',data=titanic_data)"
      ],
      "metadata": {
        "id": "h6EFxUHDa7Iu"
      },
      "execution_count": null,
      "outputs": []
    },
    {
      "cell_type": "code",
      "source": [
        "sns.countplot('Survived',hue='Pclass',data=titanic_data)"
      ],
      "metadata": {
        "id": "diV-GxZnbCiu"
      },
      "execution_count": null,
      "outputs": []
    },
    {
      "cell_type": "code",
      "source": [
        "print(titanic_data['Sex'].value_counts())\n",
        "print(titanic_data['Embarked'].value_counts())"
      ],
      "metadata": {
        "id": "7WRo-MU5bRve"
      },
      "execution_count": null,
      "outputs": []
    },
    {
      "cell_type": "code",
      "source": [
        "titanic_data.replace({'Sex':{'male':0,'female':1},'Embarked':{'S':0,'C':1,'Q':2}},inplace=True)"
      ],
      "metadata": {
        "id": "eQAV4ruRbggW"
      },
      "execution_count": null,
      "outputs": []
    },
    {
      "cell_type": "code",
      "source": [
        "titanic_data.head()"
      ],
      "metadata": {
        "id": "u7ryghSMbyYm"
      },
      "execution_count": null,
      "outputs": []
    },
    {
      "cell_type": "markdown",
      "source": [
        "Training model and model selection along with data split"
      ],
      "metadata": {
        "id": "pUIbWb66b4e5"
      }
    },
    {
      "cell_type": "code",
      "source": [
        "#features are data apart from survived and string values and target is the survived column\n",
        "X=titanic_data.drop(columns=['PassengerId','Name','Ticket','Survived'],axis=1)\n",
        "Y=titanic_data['Survived']"
      ],
      "metadata": {
        "id": "fQ8OO6N4bzxm"
      },
      "execution_count": null,
      "outputs": []
    },
    {
      "cell_type": "code",
      "source": [
        "X.head()"
      ],
      "metadata": {
        "id": "DuaG_0znhV4x"
      },
      "execution_count": null,
      "outputs": []
    },
    {
      "cell_type": "code",
      "source": [
        "X_train,X_test,Y_train,Y_test=train_test_split(X,Y,test_size=0.1,random_state=1)"
      ],
      "metadata": {
        "id": "4pAklwT3cY95"
      },
      "execution_count": null,
      "outputs": []
    },
    {
      "cell_type": "markdown",
      "source": [
        "Using Logistic Regression model"
      ],
      "metadata": {
        "id": "JTlb5b2relnj"
      }
    },
    {
      "cell_type": "code",
      "source": [
        "Model=LogisticRegression()"
      ],
      "metadata": {
        "id": "7tIhDg7scoGP"
      },
      "execution_count": null,
      "outputs": []
    },
    {
      "cell_type": "code",
      "source": [
        "Model.fit(X_train,Y_train)"
      ],
      "metadata": {
        "id": "4KMa7BZkcvI5"
      },
      "execution_count": null,
      "outputs": []
    },
    {
      "cell_type": "code",
      "source": [
        "X_train_prediction=Model.predict(X_train)"
      ],
      "metadata": {
        "id": "FE-hqMW_cyRY"
      },
      "execution_count": null,
      "outputs": []
    },
    {
      "cell_type": "code",
      "source": [
        "training_data_accuracy=accuracy_score(Y_train,X_train_prediction)\n",
        "print('Accuracy score for training data:',training_data_accuracy)"
      ],
      "metadata": {
        "id": "8hDI3GqYdCZF"
      },
      "execution_count": null,
      "outputs": []
    },
    {
      "cell_type": "code",
      "source": [
        "X_test_prediction=Model.predict(X_test)\n",
        "test_data_accuracy=accuracy_score(Y_test,X_test_prediction)\n",
        "print('Accuracy score for test data:',test_data_accuracy)"
      ],
      "metadata": {
        "id": "7L21sH6DdOEn"
      },
      "execution_count": null,
      "outputs": []
    },
    {
      "cell_type": "markdown",
      "source": [
        "Using Linear regression model"
      ],
      "metadata": {
        "id": "BWuSLhnveoGr"
      }
    },
    {
      "cell_type": "code",
      "source": [
        "Model_2=LinearRegression()"
      ],
      "metadata": {
        "id": "cWv17BKEeqUU"
      },
      "execution_count": null,
      "outputs": []
    },
    {
      "cell_type": "code",
      "source": [
        "Model_2.fit(X_train,Y_train)"
      ],
      "metadata": {
        "id": "BaiI4EC2etHv"
      },
      "execution_count": null,
      "outputs": []
    },
    {
      "cell_type": "code",
      "source": [
        "X_train_prediction_2=Model_2.predict(X_train)\n",
        "training_data_accuracy_2=accuracy_score(Y_train,X_train_prediction)\n",
        "print('Accuracy score for training data:',training_data_accuracy_2)"
      ],
      "metadata": {
        "id": "3J07d_tuew4v"
      },
      "execution_count": null,
      "outputs": []
    },
    {
      "cell_type": "code",
      "source": [
        "X_test_prediction_2=Model_2.predict(X_test)\n",
        "test_data_accuracy_2=accuracy_score(Y_test,X_test_prediction)\n",
        "print('Accuracy score for test data:',test_data_accuracy_2)"
      ],
      "metadata": {
        "id": "m_m2gnIce9xo"
      },
      "execution_count": null,
      "outputs": []
    },
    {
      "cell_type": "markdown",
      "source": [
        "Predicitive system"
      ],
      "metadata": {
        "id": "dMIJdCJPf3ZN"
      }
    },
    {
      "cell_type": "code",
      "source": [
        "#7,0,1,\"McCarthy, Mr. Timothy J\",male,54,0,0,17463,51.8625,E46,S remove the unnecessary values for data value\n",
        "input_data=(0,1,0,54,0,0,51.8625)\n",
        "input_data_np=np.array(input_data)\n",
        "input_data_np=input_data_np.reshape(1,-1)\n",
        "prediction_1=Model.predict(input_data_np)\n",
        "prediction_2=Model_2.predict(input_data_np)\n",
        "if(prediction_1==1):\n",
        "  prediction_1='Survived'\n",
        "else:\n",
        "  prediction_1='Not survived'\n",
        "if(prediction_2>0):\n",
        "  prediction_2='Survived'\n",
        "else:\n",
        "  prediction_2='Not survived'\n",
        "print('Prediciton using logistic model:',prediction_1)\n",
        "print('Prediciton using linear model:',prediction_2)"
      ],
      "metadata": {
        "id": "VeCqzPwTfEwM"
      },
      "execution_count": null,
      "outputs": []
    },
    {
      "cell_type": "code",
      "source": [
        ""
      ],
      "metadata": {
        "id": "emZYZiGti0Y8"
      },
      "execution_count": null,
      "outputs": []
    }
  ]
}